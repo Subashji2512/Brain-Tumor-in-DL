{
  "cells": [
    {
      "cell_type": "markdown",
      "metadata": {
        "id": "O9Et1giyg8r9"
      },
      "source": [
        "# Import statements\n"
      ]
    },
    {
      "cell_type": "code",
      "execution_count": null,
      "metadata": {
        "id": "qdz6QYm_wNry"
      },
      "outputs": [],
      "source": [
        "import os\n",
        "import time\n",
        "import keras\n",
        "import cv2 as cv\n",
        "import numpy as np\n",
        "import pandas as pd\n",
        "import tensorflow as tf\n",
        "import matplotlib.pyplot as plt\n",
        "from keras.optimizers import adam_v2\n",
        "from sklearn.preprocessing import LabelEncoder\n",
        "from tensorflow.keras.models import Sequential\n",
        "from sklearn.preprocessing import OneHotEncoder\n",
        "from tensorflow.keras.preprocessing.image import ImageDataGenerator\n",
        "from tensorflow.keras.layers import Conv2D, MaxPooling2D, Dense, Activation, Flatten, ZeroPadding2D, BatchNormalization, InputLayer, Activation"
      ]
    },
    {
      "cell_type": "markdown",
      "metadata": {
        "id": "yNKYtXWMr_cV"
      },
      "source": [
        "Start time "
      ]
    },
    {
      "cell_type": "code",
      "execution_count": null,
      "metadata": {
        "id": "-H71f3nxr9m6"
      },
      "outputs": [],
      "source": [
        "Start = time.time()"
      ]
    },
    {
      "cell_type": "markdown",
      "metadata": {
        "id": "PT5XsxWAhB_h"
      },
      "source": [
        "# Constants Declaration"
      ]
    },
    {
      "cell_type": "code",
      "execution_count": null,
      "metadata": {
        "id": "bQwCUnraEs22"
      },
      "outputs": [],
      "source": [
        "HeightCNN = 240\n",
        "WidthCNN = 240\n",
        "\n",
        "HeightVGG = 224\n",
        "WidthVGG = 224\n",
        "\n",
        "TumorImage = 1085\n",
        "NonTumorImage = 980\n",
        "\n",
        "TestingTumor = 175\n",
        "TestingNonTumor = 135\n",
        "\n",
        "ValidationTumor = 152\n",
        "ValidationNonTumor = 158\n",
        "\n",
        "Epoch = 25"
      ]
    },
    {
      "cell_type": "markdown",
      "metadata": {
        "id": "jCGgVu3WhHBZ"
      },
      "source": [
        "# Preprocessing"
      ]
    },
    {
      "cell_type": "markdown",
      "metadata": {
        "id": "hIG8TNa6hK2Y"
      },
      "source": [
        "## Geting filenames and their classes"
      ]
    },
    {
      "cell_type": "code",
      "execution_count": null,
      "metadata": {
        "id": "J7sSJEQyXdVP"
      },
      "outputs": [],
      "source": [
        "Df = pd.DataFrame()\n",
        "for i in os.listdir(\"/content/drive/MyDrive/Brai MRI datasets/1/no\"):\n",
        "  Df = Df.append({\"filename\": \"/content/drive/MyDrive/Brai MRI datasets/1/no/\" + i, \"class\": \"No\"}, ignore_index = True)\n",
        "for i in os.listdir(\"/content/drive/MyDrive/Brai MRI datasets/1/yes\"):\n",
        "  Df = Df.append({\"filename\": \"/content/drive/MyDrive/Brai MRI datasets/1/yes/\" + i, \"class\": \"Yes\"}, ignore_index = True)"
      ]
    },
    {
      "cell_type": "markdown",
      "metadata": {
        "id": "q27rtcjEhbw3"
      },
      "source": [
        "## Augmentation\n"
      ]
    },
    {
      "cell_type": "markdown",
      "metadata": {
        "id": "DYh2CBUOhT-2"
      },
      "source": [
        "### Creating an image generator for Augmentation\n"
      ]
    },
    {
      "cell_type": "code",
      "execution_count": null,
      "metadata": {
        "colab": {
          "base_uri": "https://localhost:8080/"
        },
        "id": "1bwCXfs89EZx",
        "outputId": "c69ec720-ec48-4e9d-e9cb-f86ec248f034"
      },
      "outputs": [
        {
          "name": "stdout",
          "output_type": "stream",
          "text": [
            "Found 253 validated image filenames belonging to 2 classes.\n"
          ]
        }
      ],
      "source": [
        "train_datagen = ImageDataGenerator(rotation_range=5,\n",
        "                                   width_shift_range=0.2,\n",
        "                                   zoom_range=0.2,\n",
        "                                   horizontal_flip=True,\n",
        "                                   brightness_range=[0.2,0.8]) \n",
        "Generator = train_datagen.flow_from_dataframe(Df,\n",
        "                                              class_mode=\"binary\", \n",
        "                                              target_size=(HeightVGG,HeightVGG),\n",
        "                                              color_mode = \"rgb\", \n",
        "                                              batch_size=1,\n",
        "                                              rescale=1.0/255)"
      ]
    },
    {
      "cell_type": "markdown",
      "metadata": {
        "id": "cOl_iMq0hgUu"
      },
      "source": [
        "### Getting images data from Image generator based on our needs"
      ]
    },
    {
      "cell_type": "code",
      "execution_count": null,
      "metadata": {
        "id": "HUI2o_Yb9Zgu"
      },
      "outputs": [],
      "source": [
        "AugmentedDf = pd.DataFrame()\n",
        "while TumorImage != 0 or NonTumorImage != 0:\n",
        "  image,Type = next(Generator)\n",
        "  image = image.astype('uint8')\n",
        "  image = np.squeeze(image)\n",
        "  if Type == Generator.class_indices['Yes'] and TumorImage != 0:\n",
        "    TumorImage -= 1\n",
        "    AugmentedDf = AugmentedDf.append({\"Image224X224\": image, \"class\": \"Yes\"}, ignore_index = True)\n",
        "  if Type == Generator.class_indices['No'] and NonTumorImage != 0:\n",
        "    NonTumorImage -= 1\n",
        "    AugmentedDf = AugmentedDf.append({\"Image224X224\": image, \"class\": \"No\"}, ignore_index = True)"
      ]
    },
    {
      "cell_type": "markdown",
      "metadata": {
        "id": "N2mQZsv7hvbC"
      },
      "source": [
        "### Label encoding classes to integer"
      ]
    },
    {
      "cell_type": "code",
      "execution_count": null,
      "metadata": {
        "id": "RIEiRlry6ukU"
      },
      "outputs": [],
      "source": [
        "Encoder = LabelEncoder()\n",
        "AugmentedDf[\"class\"] = Encoder.fit_transform(AugmentedDf[\"class\"])"
      ]
    },
    {
      "cell_type": "markdown",
      "metadata": {
        "id": "1YnBiCjSiKK3"
      },
      "source": [
        "#### Checking the values in the dataframe"
      ]
    },
    {
      "cell_type": "code",
      "execution_count": null,
      "metadata": {
        "colab": {
          "base_uri": "https://localhost:8080/"
        },
        "id": "gOdCmLK_7h95",
        "outputId": "3694ef66-1aa5-4708-9555-331d988b201a"
      },
      "outputs": [
        {
          "data": {
            "text/plain": [
              "(                                        Image224X224  class\n",
              " 0  [[[0, 0, 0], [0, 0, 0], [0, 0, 0], [0, 0, 0], ...      1\n",
              " 1  [[[10, 10, 10], [8, 8, 8], [6, 6, 6], [5, 5, 5...      1\n",
              " 2  [[[0, 0, 0], [0, 0, 0], [0, 0, 0], [0, 0, 0], ...      1\n",
              " 3  [[[0, 0, 0], [0, 0, 0], [0, 0, 0], [0, 0, 0], ...      1\n",
              " 4  [[[14, 14, 14], [14, 14, 14], [14, 14, 14], [1...      1, (2065, 2))"
            ]
          },
          "execution_count": 9,
          "metadata": {},
          "output_type": "execute_result"
        }
      ],
      "source": [
        "AugmentedDf.head(),AugmentedDf.shape"
      ]
    },
    {
      "cell_type": "markdown",
      "metadata": {
        "id": "tvJijnGIiWV_"
      },
      "source": [
        "## Eroding and dilating the images (making the image blur)"
      ]
    },
    {
      "cell_type": "markdown",
      "metadata": {
        "id": "7q1RDsk3i0pm"
      },
      "source": [
        "### Eroding and dilating (function)"
      ]
    },
    {
      "cell_type": "code",
      "execution_count": null,
      "metadata": {
        "id": "YSsmFyK7ZeCC"
      },
      "outputs": [],
      "source": [
        "def Erosion_Dilation(src):\n",
        "  kernel = np.ones((5,5), np.uint8)  \n",
        "  return cv.dilate(cv.erode(src,kernel,iterations=1) , kernel,iterations=1) "
      ]
    },
    {
      "cell_type": "markdown",
      "metadata": {
        "id": "v6wKvSXRiqH5"
      },
      "source": [
        "### Eroding and dilating the images in the dataframe"
      ]
    },
    {
      "cell_type": "code",
      "execution_count": null,
      "metadata": {
        "id": "M4xpLc7011K3"
      },
      "outputs": [],
      "source": [
        "AugmentedDf.Image224X224 = AugmentedDf.Image224X224.apply(Erosion_Dilation)"
      ]
    },
    {
      "cell_type": "markdown",
      "metadata": {
        "id": "hXDM-ugXi9Oh"
      },
      "source": [
        "#### Visualization of the processed data"
      ]
    },
    {
      "cell_type": "code",
      "execution_count": null,
      "metadata": {
        "colab": {
          "base_uri": "https://localhost:8080/",
          "height": 286
        },
        "id": "FMRrwYN211He",
        "outputId": "2c9c3f9d-2914-4358-b4d2-324a1a6ce785"
      },
      "outputs": [
        {
          "data": {
            "text/plain": [
              "<matplotlib.image.AxesImage at 0x7f06065eab50>"
            ]
          },
          "execution_count": 12,
          "metadata": {},
          "output_type": "execute_result"
        },
        {
          "data": {
            "image/png": "[encoded data removed]",
            "text/plain": [
              "<Figure size 432x288 with 1 Axes>"
            ]
          },
          "metadata": {},
          "output_type": "display_data"
        }
      ],
      "source": [
        "plt.imshow(AugmentedDf.Image224X224[0])"
      ]
    },
    {
      "cell_type": "code",
      "execution_count": null,
      "metadata": {
        "colab": {
          "base_uri": "https://localhost:8080/"
        },
        "id": "r7XyQPaT11Eq",
        "outputId": "2207e41e-b253-4706-db00-bd6744640bb9"
      },
      "outputs": [
        {
          "data": {
            "text/plain": [
              "(224, 224, 3)"
            ]
          },
          "execution_count": 13,
          "metadata": {},
          "output_type": "execute_result"
        }
      ],
      "source": [
        "AugmentedDf.Image224X224[0].shape"
      ]
    },
    {
      "cell_type": "markdown",
      "metadata": {
        "id": "_LREX-MwTadP"
      },
      "source": [
        "## Contouring and resizing the image"
      ]
    },
    {
      "cell_type": "markdown",
      "metadata": {
        "id": "POPH0kjPjg0_"
      },
      "source": [
        "### Countouring and resizing(function)"
      ]
    },
    {
      "cell_type": "code",
      "execution_count": null,
      "metadata": {
        "id": "Du9q6mO1Zd-m"
      },
      "outputs": [],
      "source": [
        "def Contour(src,Dim):\n",
        "  UpperBoundary = 255\n",
        "  LowerBoundary = 20\n",
        "  \n",
        "  src = cv.resize(src,Dim)\n",
        "  Lower = np.array(LowerBoundary, dtype=\"uint8\")\n",
        "  Upper = np.array(UpperBoundary, dtype=\"uint8\")\n",
        "  mask = cv.inRange(src, Lower, Upper)\n",
        "  output = cv.bitwise_and(src, src, mask=mask)\n",
        "\n",
        "  ret,thresh = cv.threshold(mask, 40, 255, 0)\n",
        "  contours, hierarchy = cv.findContours(thresh, cv.RETR_EXTERNAL, cv.CHAIN_APPROX_NONE)\n",
        "  if len(contours) != 0:\n",
        "    c = max(contours, key = cv.contourArea)\n",
        "    x,y,w,h = cv.boundingRect(c)\n",
        "    cv.rectangle(output,(x,y),(x+w,y+h),(255,255,255),1)\n",
        "    return cv.resize(src[y:y+h,x:x+w],Dim)\n",
        "  return src\n"
      ]
    },
    {
      "cell_type": "markdown",
      "metadata": {
        "id": "t2dUisfKjpUG"
      },
      "source": [
        "#### Visualizing the images after and before contour, resizing"
      ]
    },
    {
      "cell_type": "code",
      "execution_count": null,
      "metadata": {
        "colab": {
          "base_uri": "https://localhost:8080/",
          "height": 286
        },
        "id": "LH4LfcnQT6fe",
        "outputId": "991c9935-9f7d-42e0-e7fb-a6a79b1ad168"
      },
      "outputs": [
        {
          "data": {
            "text/plain": [
              "<matplotlib.image.AxesImage at 0x7f06060c83d0>"
            ]
          },
          "execution_count": 15,
          "metadata": {},
          "output_type": "execute_result"
        },
        {
          "data": {
            "image/png": "[encoded data removed]",
            "text/plain": [
              "<Figure size 432x288 with 1 Axes>"
            ]
          },
          "metadata": {},
          "output_type": "display_data"
        }
      ],
      "source": [
        "plt.imshow(AugmentedDf.Image224X224[0])"
      ]
    },
    {
      "cell_type": "code",
      "execution_count": null,
      "metadata": {
        "colab": {
          "base_uri": "https://localhost:8080/",
          "height": 286
        },
        "id": "L5OwieRsZd76",
        "outputId": "0aef1db9-dfaf-4b0f-8ed8-6c2ef7c9098b"
      },
      "outputs": [
        {
          "data": {
            "text/plain": [
              "<matplotlib.image.AxesImage at 0x7f06060360d0>"
            ]
          },
          "execution_count": 16,
          "metadata": {},
          "output_type": "execute_result"
        },
        {
          "data": {
            "image/png": "[encoded data removed]",
            "text/plain": [
              "<Figure size 432x288 with 1 Axes>"
            ]
          },
          "metadata": {},
          "output_type": "display_data"
        }
      ],
      "source": [
        "plt.imshow(Contour(AugmentedDf.Image224X224[0],(HeightVGG,WidthVGG)))"
      ]
    },
    {
      "cell_type": "markdown",
      "metadata": {
        "id": "AgRneGDzj1oc"
      },
      "source": [
        "### Creating contour images of (224x224) for VGG and (224x224) for CNN\n"
      ]
    },
    {
      "cell_type": "code",
      "execution_count": null,
      "metadata": {
        "id": "5RYqUOp15aQF"
      },
      "outputs": [],
      "source": [
        "AugmentedDf.Image224X224 = AugmentedDf.Image224X224.apply(Contour,args=((HeightVGG,WidthVGG),))\n",
        "AugmentedDf[\"Image240X240\"] = AugmentedDf.Image224X224.apply(Contour,args=((HeightCNN,WidthCNN),))"
      ]
    },
    {
      "cell_type": "markdown",
      "metadata": {
        "id": "I_-G1qs-kRtq"
      },
      "source": [
        "### Reordering the columns in the dataset"
      ]
    },
    {
      "cell_type": "code",
      "execution_count": null,
      "metadata": {
        "id": "Qi0nMkKo5aNZ"
      },
      "outputs": [],
      "source": [
        "AugmentedDf = AugmentedDf[[\"Image240X240\",\"Image224X224\",\"class\"]]"
      ]
    },
    {
      "cell_type": "markdown",
      "metadata": {
        "id": "S63e0408kZk0"
      },
      "source": [
        "#### Visualizing the columns changes"
      ]
    },
    {
      "cell_type": "code",
      "execution_count": null,
      "metadata": {
        "colab": {
          "base_uri": "https://localhost:8080/",
          "height": 204
        },
        "id": "Xh-4KFRu5aK8",
        "outputId": "da2afbd4-7b58-4e81-84c3-d1df4cbf31f7"
      },
      "outputs": [
        {
          "data": {
            "text/html": [
              "<div>\n",
              "<style scoped>\n",
              "    .dataframe tbody tr th:only-of-type {\n",
              "        vertical-align: middle;\n",
              "    }\n",
              "\n",
              "    .dataframe tbody tr th {\n",
              "        vertical-align: top;\n",
              "    }\n",
              "\n",
              "    .dataframe thead th {\n",
              "        text-align: right;\n",
              "    }\n",
              "</style>\n",
              "<table border=\"1\" class=\"dataframe\">\n",
              "  <thead>\n",
              "    <tr style=\"text-align: right;\">\n",
              "      <th></th>\n",
              "      <th>Image240X240</th>\n",
              "      <th>Image224X224</th>\n",
              "      <th>class</th>\n",
              "    </tr>\n",
              "  </thead>\n",
              "  <tbody>\n",
              "    <tr>\n",
              "      <th>0</th>\n",
              "      <td>[[[17, 17, 17], [17, 17, 17], [18, 18, 18], [1...</td>\n",
              "      <td>[[[17, 17, 17], [17, 17, 17], [18, 18, 18], [1...</td>\n",
              "      <td>1</td>\n",
              "    </tr>\n",
              "    <tr>\n",
              "      <th>1</th>\n",
              "      <td>[[[5, 5, 5], [5, 5, 5], [5, 5, 5], [5, 5, 5], ...</td>\n",
              "      <td>[[[5, 5, 5], [5, 5, 5], [5, 5, 5], [5, 5, 5], ...</td>\n",
              "      <td>1</td>\n",
              "    </tr>\n",
              "    <tr>\n",
              "      <th>2</th>\n",
              "      <td>[[[0, 0, 0], [0, 0, 0], [0, 0, 0], [0, 0, 0], ...</td>\n",
              "      <td>[[[0, 0, 0], [0, 0, 0], [0, 0, 0], [0, 0, 0], ...</td>\n",
              "      <td>1</td>\n",
              "    </tr>\n",
              "    <tr>\n",
              "      <th>3</th>\n",
              "      <td>[[[0, 0, 0], [0, 0, 0], [0, 0, 0], [0, 0, 0], ...</td>\n",
              "      <td>[[[0, 0, 0], [0, 0, 0], [0, 0, 0], [0, 0, 0], ...</td>\n",
              "      <td>1</td>\n",
              "    </tr>\n",
              "    <tr>\n",
              "      <th>4</th>\n",
              "      <td>[[[11, 11, 11], [11, 11, 11], [11, 11, 11], [1...</td>\n",
              "      <td>[[[11, 11, 11], [11, 11, 11], [11, 11, 11], [1...</td>\n",
              "      <td>1</td>\n",
              "    </tr>\n",
              "  </tbody>\n",
              "</table>\n",
              "</div>"
            ],
            "text/plain": [
              "                                        Image240X240  ... class\n",
              "0  [[[17, 17, 17], [17, 17, 17], [18, 18, 18], [1...  ...     1\n",
              "1  [[[5, 5, 5], [5, 5, 5], [5, 5, 5], [5, 5, 5], ...  ...     1\n",
              "2  [[[0, 0, 0], [0, 0, 0], [0, 0, 0], [0, 0, 0], ...  ...     1\n",
              "3  [[[0, 0, 0], [0, 0, 0], [0, 0, 0], [0, 0, 0], ...  ...     1\n",
              "4  [[[11, 11, 11], [11, 11, 11], [11, 11, 11], [1...  ...     1\n",
              "\n",
              "[5 rows x 3 columns]"
            ]
          },
          "execution_count": 19,
          "metadata": {},
          "output_type": "execute_result"
        }
      ],
      "source": [
        "AugmentedDf.head()"
      ]
    },
    {
      "cell_type": "markdown",
      "metadata": {
        "id": "gpz-VG06kuWy"
      },
      "source": [
        "## Split"
      ]
    },
    {
      "cell_type": "markdown",
      "metadata": {
        "id": "BBDEc060kzNx"
      },
      "source": [
        "### Creating the Train,Test,Validate split based on the given count"
      ]
    },
    {
      "cell_type": "code",
      "execution_count": null,
      "metadata": {
        "id": "LUKTa3nkXSIz"
      },
      "outputs": [],
      "source": [
        "TrainingDf = pd.DataFrame()\n",
        "ValidationDf = pd.DataFrame()\n",
        "TestingDf = pd.DataFrame()\n",
        "\n",
        "for i in AugmentedDf.index:\n",
        "  if TestingTumor != 0 and AugmentedDf['class'][i] == 1:\n",
        "    TestingTumor -= 1\n",
        "    TestingDf  = TestingDf.append(AugmentedDf.iloc[i],verify_integrity=True, ignore_index = True)\n",
        "  elif TestingNonTumor != 0 and AugmentedDf['class'][i] == 0:\n",
        "    TestingNonTumor -= 1\n",
        "    TestingDf  = TestingDf.append(AugmentedDf.iloc[i],verify_integrity=True, ignore_index = True)\n",
        "  elif ValidationTumor != 0 and AugmentedDf['class'][i] == 1:\n",
        "    ValidationTumor -= 1\n",
        "    ValidationDf  = ValidationDf.append(AugmentedDf.iloc[i],verify_integrity=True, ignore_index = True)\n",
        "  elif ValidationNonTumor != 0 and AugmentedDf['class'][i] == 0:\n",
        "    ValidationNonTumor -= 1\n",
        "    ValidationDf  = ValidationDf.append(AugmentedDf.iloc[i],verify_integrity=True, ignore_index = True)\n",
        "  else:\n",
        "    TrainingDf = TrainingDf.append(AugmentedDf.iloc[i],verify_integrity=True, ignore_index = True)\n"
      ]
    },
    {
      "cell_type": "markdown",
      "metadata": {
        "id": "Ky6E2U2Mk8YK"
      },
      "source": [
        "#### Visualizing the shape of train,test and validate dataframe"
      ]
    },
    {
      "cell_type": "code",
      "execution_count": null,
      "metadata": {
        "colab": {
          "base_uri": "https://localhost:8080/"
        },
        "id": "mgSuC_4qXSCs",
        "outputId": "6a3dd6e7-7040-4461-9fbb-b45737c4dc9c"
      },
      "outputs": [
        {
          "data": {
            "text/plain": [
              "((1445, 3), (310, 3), (310, 3))"
            ]
          },
          "execution_count": 21,
          "metadata": {},
          "output_type": "execute_result"
        }
      ],
      "source": [
        "TrainingDf.shape,TestingDf.shape,ValidationDf.shape"
      ]
    },
    {
      "cell_type": "markdown",
      "metadata": {
        "id": "cKDvLzzhlIF6"
      },
      "source": [
        "### Shuffling the rows in the train,test and validate dataframe"
      ]
    },
    {
      "cell_type": "code",
      "execution_count": null,
      "metadata": {
        "id": "jsL1ptfr0_p9"
      },
      "outputs": [],
      "source": [
        "TrainingDf = TrainingDf.sample(frac = 1)\n",
        "TestingDf = TestingDf.sample(frac = 1)\n",
        "ValidationDf = ValidationDf.sample(frac = 1)"
      ]
    },
    {
      "cell_type": "markdown",
      "metadata": {
        "id": "QZzlrBAOlY7U"
      },
      "source": [
        "## Numpy to tensor converter"
      ]
    },
    {
      "cell_type": "markdown",
      "metadata": {
        "id": "wkxSfFsLl6w1"
      },
      "source": [
        "### Numpy to tensor converting(function)"
      ]
    },
    {
      "cell_type": "code",
      "execution_count": null,
      "metadata": {
        "id": "SoHdsOSLsgZh"
      },
      "outputs": [],
      "source": [
        "def CNN_Formatter(X,Y):\n",
        "  return tf.convert_to_tensor(list(X)),tf.convert_to_tensor(list(Y))"
      ]
    },
    {
      "cell_type": "markdown",
      "metadata": {
        "id": "zX_AQdCZmktF"
      },
      "source": [
        "### Converting and creating tensor iterator for model"
      ]
    },
    {
      "cell_type": "code",
      "execution_count": null,
      "metadata": {
        "id": "bSy4nq6nmOnW"
      },
      "outputs": [],
      "source": [
        "X_CNN , Y_CNN = CNN_Formatter(TrainingDf.Image240X240,TrainingDf[\"class\"])\n",
        "X_CNN_Val,Y_CNN_Val = CNN_Formatter(ValidationDf.Image240X240,ValidationDf[\"class\"])\n",
        "X_CNN_Test,Y_CNN_Test = CNN_Formatter(TestingDf.Image240X240,TestingDf[\"class\"])"
      ]
    },
    {
      "cell_type": "markdown",
      "metadata": {
        "id": "TEjEDDmMmAAN"
      },
      "source": [
        "# Model"
      ]
    },
    {
      "cell_type": "markdown",
      "metadata": {
        "id": "sU2ELO__mGdM"
      },
      "source": [
        "## CNN Model"
      ]
    },
    {
      "cell_type": "markdown",
      "metadata": {
        "id": "2NyNpUZ8m7jA"
      },
      "source": [
        "### CNN Sequential model"
      ]
    },
    {
      "cell_type": "code",
      "execution_count": null,
      "metadata": {
        "id": "mmQ1nDdD1gZ6"
      },
      "outputs": [],
      "source": [
        "ModelCNN = Sequential()\n",
        "ModelCNN.add(InputLayer(input_shape=(HeightCNN,WidthCNN,3)))\n",
        "ModelCNN.add(ZeroPadding2D(padding=(2,2)))\n",
        "ModelCNN.add(Conv2D(filters=32,kernel_size=(7,7)))\n",
        "ModelCNN.add(BatchNormalization())\n",
        "ModelCNN.add(Activation(activation='relu'))\n",
        "ModelCNN.add(MaxPooling2D(pool_size=(4,4),strides=4))\n",
        "ModelCNN.add(MaxPooling2D(pool_size=(4,4),strides=4))\n",
        "ModelCNN.add(Flatten())\n",
        "ModelCNN.add(Dense(units=1))"
      ]
    },
    {
      "cell_type": "markdown",
      "metadata": {
        "id": "IQkhQL7om_0s"
      },
      "source": [
        "### CNN Model summary"
      ]
    },
    {
      "cell_type": "code",
      "execution_count": null,
      "metadata": {
        "colab": {
          "base_uri": "https://localhost:8080/"
        },
        "id": "ePvG57oW8c6J",
        "outputId": "4d63aad4-26bc-4bba-a42c-acca92f69a82"
      },
      "outputs": [
        {
          "name": "stdout",
          "output_type": "stream",
          "text": [
            "Model: \"sequential\"\n",
            "_________________________________________________________________\n",
            "Layer (type)                 Output Shape              Param #   \n",
            "=================================================================\n",
            "zero_padding2d (ZeroPadding2 (None, 244, 244, 3)       0         \n",
            "_________________________________________________________________\n",
            "conv2d (Conv2D)              (None, 238, 238, 32)      4736      \n",
            "_________________________________________________________________\n",
            "batch_normalization (BatchNo (None, 238, 238, 32)      128       \n",
            "_________________________________________________________________\n",
            "activation (Activation)      (None, 238, 238, 32)      0         \n",
            "_________________________________________________________________\n",
            "max_pooling2d (MaxPooling2D) (None, 59, 59, 32)        0         \n",
            "_________________________________________________________________\n",
            "max_pooling2d_1 (MaxPooling2 (None, 14, 14, 32)        0         \n",
            "_________________________________________________________________\n",
            "flatten (Flatten)            (None, 6272)              0         \n",
            "_________________________________________________________________\n",
            "dense (Dense)                (None, 1)                 6273      \n",
            "=================================================================\n",
            "Total params: 11,137\n",
            "Trainable params: 11,073\n",
            "Non-trainable params: 64\n",
            "_________________________________________________________________\n"
          ]
        }
      ],
      "source": [
        "ModelCNN.summary()"
      ]
    },
    {
      "cell_type": "markdown",
      "metadata": {
        "id": "fK_LGxYsnCgJ"
      },
      "source": [
        "### CNN model Compile"
      ]
    },
    {
      "cell_type": "code",
      "execution_count": null,
      "metadata": {
        "id": "jpuaCyj-1gXl"
      },
      "outputs": [],
      "source": [
        "ModelCNN.compile(optimizer = 'adam', loss = tf.keras.losses.BinaryCrossentropy(from_logits=True),metrics=['accuracy'])"
      ]
    },
    {
      "cell_type": "markdown",
      "metadata": {
        "id": "XZSMWRKMnMMV"
      },
      "source": [
        "### CNN model fit"
      ]
    },
    {
      "cell_type": "code",
      "execution_count": null,
      "metadata": {
        "colab": {
          "background_save": true,
          "base_uri": "https://localhost:8080/"
        },
        "id": "giMh3GiA1gVM",
        "outputId": "251f38da-5910-4389-8a5f-52a9991d39d3"
      },
      "outputs": [
        {
          "name": "stdout",
          "output_type": "stream",
          "text": [
            "Epoch 1/25\n",
            "145/145 [==============================] - 36s 35ms/step - loss: 0.7116 - accuracy: 0.6256 - val_loss: 0.6074 - val_accuracy: 0.6903\n",
            "Epoch 2/25\n",
            "145/145 [==============================] - 4s 31ms/step - loss: 0.5658 - accuracy: 0.7218 - val_loss: 0.6224 - val_accuracy: 0.7194\n",
            "Epoch 3/25\n",
            "145/145 [==============================] - 4s 31ms/step - loss: 0.5132 - accuracy: 0.7661 - val_loss: 0.5373 - val_accuracy: 0.7258\n",
            "Epoch 4/25\n",
            "145/145 [==============================] - 4s 31ms/step - loss: 0.4355 - accuracy: 0.7965 - val_loss: 0.4833 - val_accuracy: 0.7452\n",
            "Epoch 5/25\n",
            "145/145 [==============================] - 5s 31ms/step - loss: 0.3714 - accuracy: 0.8256 - val_loss: 0.5316 - val_accuracy: 0.7645\n",
            "Epoch 6/25\n",
            "145/145 [==============================] - 5s 31ms/step - loss: 0.3635 - accuracy: 0.8381 - val_loss: 0.5047 - val_accuracy: 0.7871\n",
            "Epoch 7/25\n",
            "145/145 [==============================] - 4s 31ms/step - loss: 0.3403 - accuracy: 0.8429 - val_loss: 0.5689 - val_accuracy: 0.7129\n",
            "Epoch 8/25\n",
            "145/145 [==============================] - 5s 31ms/step - loss: 0.3514 - accuracy: 0.8401 - val_loss: 0.5391 - val_accuracy: 0.7677\n",
            "Epoch 9/25\n",
            "145/145 [==============================] - 4s 31ms/step - loss: 0.2900 - accuracy: 0.8699 - val_loss: 0.6975 - val_accuracy: 0.7613\n",
            "Epoch 10/25\n",
            "145/145 [==============================] - 4s 31ms/step - loss: 0.3035 - accuracy: 0.8706 - val_loss: 0.4678 - val_accuracy: 0.8032\n",
            "Epoch 11/25\n",
            "145/145 [==============================] - 4s 31ms/step - loss: 0.2434 - accuracy: 0.8872 - val_loss: 0.4539 - val_accuracy: 0.7935\n",
            "Epoch 12/25\n",
            "145/145 [==============================] - 5s 31ms/step - loss: 0.2563 - accuracy: 0.8927 - val_loss: 0.5364 - val_accuracy: 0.8226\n",
            "Epoch 13/25\n",
            "145/145 [==============================] - 4s 31ms/step - loss: 0.2920 - accuracy: 0.8761 - val_loss: 0.5074 - val_accuracy: 0.7968\n",
            "Epoch 14/25\n",
            "145/145 [==============================] - 4s 30ms/step - loss: 0.2136 - accuracy: 0.9031 - val_loss: 0.5008 - val_accuracy: 0.7871\n",
            "Epoch 15/25\n",
            "145/145 [==============================] - 4s 30ms/step - loss: 0.2293 - accuracy: 0.9080 - val_loss: 0.4619 - val_accuracy: 0.7710\n",
            "Epoch 16/25\n",
            "145/145 [==============================] - 5s 31ms/step - loss: 0.1921 - accuracy: 0.9225 - val_loss: 0.5426 - val_accuracy: 0.7484\n",
            "Epoch 17/25\n",
            "145/145 [==============================] - 4s 30ms/step - loss: 0.2005 - accuracy: 0.9107 - val_loss: 0.5124 - val_accuracy: 0.8032\n",
            "Epoch 18/25\n",
            "145/145 [==============================] - 4s 31ms/step - loss: 0.1690 - accuracy: 0.9225 - val_loss: 0.5819 - val_accuracy: 0.8097\n",
            "Epoch 19/25\n",
            "145/145 [==============================] - 4s 31ms/step - loss: 0.1562 - accuracy: 0.9370 - val_loss: 0.5149 - val_accuracy: 0.8323\n",
            "Epoch 20/25\n",
            "145/145 [==============================] - 5s 33ms/step - loss: 0.1689 - accuracy: 0.9246 - val_loss: 0.5273 - val_accuracy: 0.8097\n",
            "Epoch 21/25\n",
            "145/145 [==============================] - 5s 33ms/step - loss: 0.1545 - accuracy: 0.9398 - val_loss: 0.4729 - val_accuracy: 0.8355\n",
            "Epoch 22/25\n",
            "145/145 [==============================] - 5s 33ms/step - loss: 0.1832 - accuracy: 0.9197 - val_loss: 0.5579 - val_accuracy: 0.8226\n",
            "Epoch 23/25\n",
            "145/145 [==============================] - 4s 31ms/step - loss: 0.1195 - accuracy: 0.9550 - val_loss: 0.5144 - val_accuracy: 0.7871\n",
            "Epoch 24/25\n",
            "145/145 [==============================] - 5s 31ms/step - loss: 0.1274 - accuracy: 0.9405 - val_loss: 0.5019 - val_accuracy: 0.8355\n",
            "Epoch 25/25\n",
            "145/145 [==============================] - 4s 31ms/step - loss: 0.1245 - accuracy: 0.9481 - val_loss: 0.6132 - val_accuracy: 0.8065\n"
          ]
        },
        {
          "name": "stderr",
          "output_type": "stream",
          "text": [
            "Exception ignored in: <function IteratorResourceDeleter.__del__ at 0x7f062b84cb00>\n",
            "Traceback (most recent call last):\n",
            "  File \"/usr/local/lib/python3.7/dist-packages/tensorflow/python/data/ops/iterator_ops.py\", line 546, in __del__\n",
            "    handle=self._handle, deleter=self._deleter)\n",
            "  File \"/usr/local/lib/python3.7/dist-packages/tensorflow/python/ops/gen_dataset_ops.py\", line 1264, in delete_iterator\n",
            "    _ctx, \"DeleteIterator\", name, handle, deleter)\n",
            "KeyboardInterrupt: \n"
          ]
        },
        {
          "data": {
            "text/plain": [
              "<keras.callbacks.History at 0x7f0600532650>"
            ]
          },
          "execution_count": null,
          "metadata": {},
          "output_type": "execute_result"
        }
      ],
      "source": [
        "ModelCNN.fit(x = X_CNN,y = Y_CNN,epochs=Epoch, validation_data=(X_CNN_Val,Y_CNN_Val),batch_size=10)"
      ]
    },
    {
      "cell_type": "markdown",
      "metadata": {
        "id": "BAVOKI-ZnOjZ"
      },
      "source": [
        "### CNN model evaluate"
      ]
    },
    {
      "cell_type": "code",
      "execution_count": null,
      "metadata": {
        "colab": {
          "background_save": true
        },
        "id": "I4yV0shcOT3n",
        "outputId": "dbcab8f3-21e6-4db9-ebcf-d2786dbfe95e"
      },
      "outputs": [
        {
          "name": "stdout",
          "output_type": "stream",
          "text": [
            "31/31 [==============================] - 1s 16ms/step - loss: 0.4809 - accuracy: 0.8677\n"
          ]
        },
        {
          "data": {
            "text/plain": [
              "[0.48093125224113464, 0.8677419424057007]"
            ]
          },
          "execution_count": null,
          "metadata": {},
          "output_type": "execute_result"
        }
      ],
      "source": [
        "ModelCNN.evaluate(X_CNN_Test,Y_CNN_Test,batch_size=10)"
      ]
    },
    {
      "cell_type": "code",
      "execution_count": null,
      "metadata": {
        "colab": {
          "background_save": true
        },
        "id": "yMu3YDehMun5",
        "outputId": "4b7936bc-c52f-4585-e17f-07adfadeb234"
      },
      "outputs": [
        {
          "name": "stdout",
          "output_type": "stream",
          "text": [
            "Runtime of the program is 521.4077613353729\n"
          ]
        }
      ],
      "source": [
        "End = time.time()\n",
        "Diff = End - Start\n",
        "print(f\"Runtime of the program is {End - Start}\")"
      ]
    },
    {
      "cell_type": "markdown",
      "metadata": {
        "id": "F_sbEDkbnSjv"
      },
      "source": [
        "## VGG Model"
      ]
    },
    {
      "cell_type": "markdown",
      "metadata": {
        "id": "8VXJtm1BnbgH"
      },
      "source": [
        "### VGG Sequential model"
      ]
    },
    {
      "cell_type": "code",
      "execution_count": null,
      "metadata": {
        "colab": {
          "background_save": true
        },
        "id": "PR2JtDbKPq7A"
      },
      "outputs": [],
      "source": [
        "ModelVGG = Sequential()\n",
        "ModelVGG.add(InputLayer(input_shape=(HeightVGG,WidthVGG,3)))\n",
        "ModelVGG.add(Conv2D(filters=64,kernel_size=(3,3),padding=\"same\", activation=\"relu\"))\n",
        "ModelVGG.add(Conv2D(filters=64,kernel_size=(3,3),padding=\"same\", activation=\"relu\"))\n",
        "ModelVGG.add(MaxPooling2D(pool_size=(2,2),strides=(2,2)))\n",
        "ModelVGG.add(Conv2D(filters=128, kernel_size=(3,3), padding=\"same\", activation=\"relu\"))\n",
        "ModelVGG.add(Conv2D(filters=128, kernel_size=(3,3), padding=\"same\", activation=\"relu\"))\n",
        "ModelVGG.add(MaxPooling2D(pool_size=(2,2),strides=(2,2)))\n",
        "ModelVGG.add(Conv2D(filters=256, kernel_size=(3,3), padding=\"same\", activation=\"relu\"))\n",
        "ModelVGG.add(Conv2D(filters=256, kernel_size=(3,3), padding=\"same\", activation=\"relu\"))\n",
        "ModelVGG.add(Conv2D(filters=256, kernel_size=(3,3), padding=\"same\", activation=\"relu\"))\n",
        "ModelVGG.add(MaxPooling2D(pool_size=(2,2),strides=(2,2)))\n",
        "ModelVGG.add(Conv2D(filters=512, kernel_size=(3,3), padding=\"same\", activation=\"relu\"))\n",
        "ModelVGG.add(Conv2D(filters=512, kernel_size=(3,3), padding=\"same\", activation=\"relu\"))\n",
        "ModelVGG.add(Conv2D(filters=512, kernel_size=(3,3), padding=\"same\", activation=\"relu\"))\n",
        "ModelVGG.add(MaxPooling2D(pool_size=(2,2),strides=(2,2)))\n",
        "ModelVGG.add(Conv2D(filters=512, kernel_size=(3,3), padding=\"same\", activation=\"relu\"))\n",
        "ModelVGG.add(Conv2D(filters=512, kernel_size=(3,3), padding=\"same\", activation=\"relu\"))\n",
        "ModelVGG.add(Conv2D(filters=512, kernel_size=(3,3), padding=\"same\", activation=\"relu\"))\n",
        "ModelVGG.add(MaxPooling2D(pool_size=(2,2),strides=(2,2)))\n",
        "ModelVGG.add(Flatten())\n",
        "ModelVGG.add(Dense(units=4096,activation=\"relu\"))\n",
        "ModelVGG.add(Dense(units=4096,activation=\"relu\"))\n",
        "ModelVGG.add(Dense(units=2, activation=\"softmax\"))\n"
      ]
    },
    {
      "cell_type": "markdown",
      "metadata": {
        "id": "voVF6ZdGnf1G"
      },
      "source": [
        "### VGG Model summary"
      ]
    },
    {
      "cell_type": "code",
      "execution_count": null,
      "metadata": {
        "colab": {
          "background_save": true
        },
        "id": "-tV25hXEQidz",
        "outputId": "6b55784e-ab29-4882-a7a2-633879126680"
      },
      "outputs": [
        {
          "name": "stdout",
          "output_type": "stream",
          "text": [
            "Model: \"sequential_1\"\n",
            "_________________________________________________________________\n",
            "Layer (type)                 Output Shape              Param #   \n",
            "=================================================================\n",
            "conv2d_1 (Conv2D)            (None, 224, 224, 64)      1792      \n",
            "_________________________________________________________________\n",
            "conv2d_2 (Conv2D)            (None, 224, 224, 64)      36928     \n",
            "_________________________________________________________________\n",
            "max_pooling2d_2 (MaxPooling2 (None, 112, 112, 64)      0         \n",
            "_________________________________________________________________\n",
            "conv2d_3 (Conv2D)            (None, 112, 112, 128)     73856     \n",
            "_________________________________________________________________\n",
            "conv2d_4 (Conv2D)            (None, 112, 112, 128)     147584    \n",
            "_________________________________________________________________\n",
            "max_pooling2d_3 (MaxPooling2 (None, 56, 56, 128)       0         \n",
            "_________________________________________________________________\n",
            "conv2d_5 (Conv2D)            (None, 56, 56, 256)       295168    \n",
            "_________________________________________________________________\n",
            "conv2d_6 (Conv2D)            (None, 56, 56, 256)       590080    \n",
            "_________________________________________________________________\n",
            "conv2d_7 (Conv2D)            (None, 56, 56, 256)       590080    \n",
            "_________________________________________________________________\n",
            "max_pooling2d_4 (MaxPooling2 (None, 28, 28, 256)       0         \n",
            "_________________________________________________________________\n",
            "conv2d_8 (Conv2D)            (None, 28, 28, 512)       1180160   \n",
            "_________________________________________________________________\n",
            "conv2d_9 (Conv2D)            (None, 28, 28, 512)       2359808   \n",
            "_________________________________________________________________\n",
            "conv2d_10 (Conv2D)           (None, 28, 28, 512)       2359808   \n",
            "_________________________________________________________________\n",
            "max_pooling2d_5 (MaxPooling2 (None, 14, 14, 512)       0         \n",
            "_________________________________________________________________\n",
            "conv2d_11 (Conv2D)           (None, 14, 14, 512)       2359808   \n",
            "_________________________________________________________________\n",
            "conv2d_12 (Conv2D)           (None, 14, 14, 512)       2359808   \n",
            "_________________________________________________________________\n",
            "conv2d_13 (Conv2D)           (None, 14, 14, 512)       2359808   \n",
            "_________________________________________________________________\n",
            "max_pooling2d_6 (MaxPooling2 (None, 7, 7, 512)         0         \n",
            "_________________________________________________________________\n",
            "flatten_1 (Flatten)          (None, 25088)             0         \n",
            "_________________________________________________________________\n",
            "dense_1 (Dense)              (None, 4096)              102764544 \n",
            "_________________________________________________________________\n",
            "dense_2 (Dense)              (None, 4096)              16781312  \n",
            "_________________________________________________________________\n",
            "dense_3 (Dense)              (None, 2)                 8194      \n",
            "=================================================================\n",
            "Total params: 134,268,738\n",
            "Trainable params: 134,268,738\n",
            "Non-trainable params: 0\n",
            "_________________________________________________________________\n"
          ]
        }
      ],
      "source": [
        "ModelVGG.summary()"
      ]
    },
    {
      "cell_type": "markdown",
      "metadata": {
        "id": "vDK3oDTmnu-a"
      },
      "source": [
        "### VGG model compile"
      ]
    },
    {
      "cell_type": "code",
      "execution_count": null,
      "metadata": {
        "colab": {
          "background_save": true
        },
        "id": "dCBBDpn6gXPg"
      },
      "outputs": [],
      "source": [
        "sgd = tf.optimizers.SGD(learning_rate=0.1, decay=1e-6, momentum=0.9, nesterov=True)\n",
        "ModelVGG.compile(optimizer=sgd, loss='categorical_crossentropy',metrics=['accuracy'])"
      ]
    },
    {
      "cell_type": "markdown",
      "metadata": {
        "id": "gAY05tWOnymQ"
      },
      "source": []
    },
    {
      "cell_type": "markdown",
      "metadata": {
        "id": "o4cfeKuOnr-S"
      },
      "source": [
        "### VGG model fit"
      ]
    },
    {
      "cell_type": "code",
      "execution_count": null,
      "metadata": {
        "colab": {
          "background_save": true
        },
        "id": "Qtir0ILm_rWL"
      },
      "outputs": [],
      "source": [
        "def VGG_Formatter(X,Y):\n",
        "  Encoder = OneHotEncoder(sparse=False)\n",
        "  Y = np.array(Y)\n",
        "  \n",
        "  return tf.convert_to_tensor(list(X)),tf.convert_to_tensor(list(Encoder.fit_transform(Y.reshape(-1,1))))"
      ]
    },
    {
      "cell_type": "code",
      "execution_count": null,
      "metadata": {
        "colab": {
          "background_save": true
        },
        "id": "0voE1MIvBT4B"
      },
      "outputs": [],
      "source": [
        "X_VGG , Y_VGG = VGG_Formatter(TrainingDf.Image224X224,TrainingDf[\"class\"])\n",
        "X_VGG_Val,Y_VGG_Val = VGG_Formatter(ValidationDf.Image224X224,ValidationDf[\"class\"])\n",
        "X_VGG_Test,Y_VGG_Test = VGG_Formatter(TestingDf.Image224X224,TestingDf[\"class\"])"
      ]
    },
    {
      "cell_type": "code",
      "execution_count": null,
      "metadata": {
        "colab": {
          "background_save": true
        },
        "id": "RjQOKLPvJ5Dd",
        "outputId": "27bb1188-11a1-4bda-afe3-e50eac5694cb"
      },
      "outputs": [
        {
          "data": {
            "text/plain": [
              "TensorShape([1445, 2])"
            ]
          },
          "execution_count": null,
          "metadata": {},
          "output_type": "execute_result"
        }
      ],
      "source": [
        "Y_VGG.shape"
      ]
    },
    {
      "cell_type": "code",
      "execution_count": 37,
      "metadata": {
        "colab": {
          "base_uri": "https://localhost:8080/",
          "height": 0
        },
        "id": "H6WuYtHtgzmI",
        "outputId": "c6952051-7065-4b88-bd9b-c56604ee986c"
      },
      "outputs": [
        {
          "name": "stdout",
          "output_type": "stream",
          "text": [
            "Epoch 1/25\n",
            "145/145 [==============================] - 67s 415ms/step - loss: 125432466885312512.0000 - accuracy: 0.4886 - val_loss: 0.6935 - val_accuracy: 0.4903\n",
            "Epoch 2/25\n",
            "145/145 [==============================] - 58s 399ms/step - loss: 0.7011 - accuracy: 0.5156 - val_loss: 0.7011 - val_accuracy: 0.5097\n",
            "Epoch 3/25\n",
            "145/145 [==============================] - 56s 389ms/step - loss: 0.7010 - accuracy: 0.4997 - val_loss: 0.7028 - val_accuracy: 0.4903\n",
            "Epoch 4/25\n",
            "145/145 [==============================] - 58s 398ms/step - loss: 0.7035 - accuracy: 0.4983 - val_loss: 0.7540 - val_accuracy: 0.4903\n",
            "Epoch 5/25\n",
            "145/145 [==============================] - 58s 399ms/step - loss: 0.7009 - accuracy: 0.5107 - val_loss: 0.7135 - val_accuracy: 0.4903\n",
            "Epoch 6/25\n",
            "145/145 [==============================] - 56s 388ms/step - loss: 0.6977 - accuracy: 0.5197 - val_loss: 0.6931 - val_accuracy: 0.5097\n",
            "Epoch 7/25\n",
            "145/145 [==============================] - 58s 399ms/step - loss: 0.7028 - accuracy: 0.4886 - val_loss: 0.7047 - val_accuracy: 0.4903\n",
            "Epoch 8/25\n",
            "145/145 [==============================] - 56s 388ms/step - loss: 0.6977 - accuracy: 0.5163 - val_loss: 0.7134 - val_accuracy: 0.4903\n",
            "Epoch 9/25\n",
            "145/145 [==============================] - 56s 388ms/step - loss: 0.7024 - accuracy: 0.4983 - val_loss: 0.6971 - val_accuracy: 0.4903\n",
            "Epoch 10/25\n",
            "145/145 [==============================] - 58s 400ms/step - loss: 0.7033 - accuracy: 0.5017 - val_loss: 0.7027 - val_accuracy: 0.5097\n",
            "Epoch 11/25\n",
            "145/145 [==============================] - 56s 389ms/step - loss: 0.7044 - accuracy: 0.5045 - val_loss: 0.6941 - val_accuracy: 0.5097\n",
            "Epoch 12/25\n",
            "145/145 [==============================] - 56s 389ms/step - loss: 0.7000 - accuracy: 0.5066 - val_loss: 0.6934 - val_accuracy: 0.4903\n",
            "Epoch 13/25\n",
            "145/145 [==============================] - 56s 389ms/step - loss: 0.6987 - accuracy: 0.5273 - val_loss: 0.7151 - val_accuracy: 0.4903\n",
            "Epoch 14/25\n",
            "145/145 [==============================] - 58s 399ms/step - loss: 0.7041 - accuracy: 0.5017 - val_loss: 0.6933 - val_accuracy: 0.5097\n",
            "Epoch 15/25\n",
            "145/145 [==============================] - 58s 399ms/step - loss: 0.7020 - accuracy: 0.5073 - val_loss: 0.6957 - val_accuracy: 0.5097\n",
            "Epoch 16/25\n",
            "145/145 [==============================] - 58s 399ms/step - loss: 0.7002 - accuracy: 0.4983 - val_loss: 0.6938 - val_accuracy: 0.4903\n",
            "Epoch 17/25\n",
            "145/145 [==============================] - 56s 388ms/step - loss: 0.7083 - accuracy: 0.4997 - val_loss: 0.7029 - val_accuracy: 0.4903\n",
            "Epoch 18/25\n",
            "145/145 [==============================] - 56s 388ms/step - loss: 0.7016 - accuracy: 0.5010 - val_loss: 0.7147 - val_accuracy: 0.4903\n",
            "Epoch 19/25\n",
            "145/145 [==============================] - 58s 398ms/step - loss: 0.7024 - accuracy: 0.4955 - val_loss: 0.7586 - val_accuracy: 0.4903\n",
            "Epoch 20/25\n",
            "145/145 [==============================] - 56s 388ms/step - loss: 0.7043 - accuracy: 0.4969 - val_loss: 0.6945 - val_accuracy: 0.4903\n",
            "Epoch 21/25\n",
            "145/145 [==============================] - 58s 398ms/step - loss: 0.7012 - accuracy: 0.4997 - val_loss: 0.6946 - val_accuracy: 0.4903\n",
            "Epoch 22/25\n",
            "145/145 [==============================] - 58s 399ms/step - loss: 0.7016 - accuracy: 0.5093 - val_loss: 0.7030 - val_accuracy: 0.4903\n",
            "Epoch 23/25\n",
            "145/145 [==============================] - 56s 388ms/step - loss: 0.7079 - accuracy: 0.5114 - val_loss: 0.6970 - val_accuracy: 0.5097\n",
            "Epoch 24/25\n",
            "145/145 [==============================] - 58s 398ms/step - loss: 0.7015 - accuracy: 0.5149 - val_loss: 0.6954 - val_accuracy: 0.4903\n",
            "Epoch 25/25\n",
            "145/145 [==============================] - 58s 398ms/step - loss: 0.7049 - accuracy: 0.4865 - val_loss: 0.6931 - val_accuracy: 0.5097\n"
          ]
        },
        {
          "data": {
            "text/plain": [
              "<keras.callbacks.History at 0x7f06001ba150>"
            ]
          },
          "execution_count": 37,
          "metadata": {},
          "output_type": "execute_result"
        }
      ],
      "source": [
        "ModelVGG.fit(x = X_VGG,y = Y_VGG,epochs=Epoch, validation_data=(X_VGG_Val,Y_VGG_Val),batch_size=10)"
      ]
    },
    {
      "cell_type": "markdown",
      "metadata": {
        "id": "r6oHNN54n2pm"
      },
      "source": [
        "### VGG model evaluate\n"
      ]
    },
    {
      "cell_type": "code",
      "execution_count": 38,
      "metadata": {
        "colab": {
          "base_uri": "https://localhost:8080/",
          "height": 0
        },
        "id": "HjCGRbAOn2XV",
        "outputId": "611c3e88-2351-43d1-ffdb-4d05c61a4d60"
      },
      "outputs": [
        {
          "name": "stdout",
          "output_type": "stream",
          "text": [
            "31/31 [==============================] - 4s 122ms/step - loss: 0.6984 - accuracy: 0.4355\n"
          ]
        },
        {
          "data": {
            "text/plain": [
              "[0.6983739733695984, 0.4354838728904724]"
            ]
          },
          "execution_count": 38,
          "metadata": {},
          "output_type": "execute_result"
        }
      ],
      "source": [
        "ModelVGG.evaluate(X_VGG_Test,Y_VGG_Test,batch_size=10)"
      ]
    },
    {
      "cell_type": "code",
      "execution_count": 39,
      "metadata": {
        "id": "JXyLUGGOsFEs"
      },
      "outputs": [],
      "source": [
        "End = time.time()"
      ]
    },
    {
      "cell_type": "code",
      "execution_count": 40,
      "metadata": {
        "colab": {
          "base_uri": "https://localhost:8080/",
          "height": 0
        },
        "id": "Ej7gP0zrsJLy",
        "outputId": "fcb012c6-de0e-444c-e93d-a132ca2a614f"
      },
      "outputs": [
        {
          "name": "stdout",
          "output_type": "stream",
          "text": [
            "Runtime of the program is 1613.025642156601\n"
          ]
        }
      ],
      "source": [
        "End = time.time()\n",
        "print(f\"Runtime of the program is {End - Start - Diff}\")"
      ]
    }
  ],
  "metadata": {
    "accelerator": "GPU",
    "colab": {
      "collapsed_sections": [
        "cOl_iMq0hgUu",
        "N2mQZsv7hvbC",
        "1YnBiCjSiKK3",
        "7q1RDsk3i0pm"
      ],
      "name": "Brain DL",
      "provenance": [],
      "toc_visible": true
    },
    "kernelspec": {
      "display_name": "patternprojii",
      "language": "python",
      "name": "python3"
    },
    "language_info": {
      "name": "python",
      "version": "3.9.15 (main, Nov 24 2022, 14:39:17) [MSC v.1916 64 bit (AMD64)]"
    },
    "vscode": {
      "interpreter": {
        "hash": "86029187e1bce37a4930937312f4f149b1f3d1cc2a485d06dadd1021e77383b2"
      }
    }
  },
  "nbformat": 4,
  "nbformat_minor": 0
}
